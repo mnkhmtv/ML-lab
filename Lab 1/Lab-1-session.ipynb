{
 "cells": [
  {
   "cell_type": "markdown",
   "metadata": {
    "pycharm": {
     "name": "#%% md\n"
    }
   },
   "source": [
    "# Lab 1: Crash course on Python\n",
    "Python is a general purpose programming language and one of the most popular\n",
    "programming languages. It is widely used in the scientific community because\n",
    "of its ease of use and simple syntax. Python also offers a large collection of\n",
    "libraries that help to solve complex problems easily and build strong system\n",
    "and data application.\n",
    "\n",
    "[PEP8](https://realpython.com/python-pep8/) is one of the standards that\n",
    "specifies guidelines and best practices on how to write Python code"
   ]
  },
  {
   "cell_type": "markdown",
   "metadata": {},
   "source": [
    "---\n",
    "## Variables and Datatypes\n",
    "Python has different data types, here is the most common ones\n",
    "\n",
    "| Data Types   | Examples            | Explanation          | Mutable? |\n",
    "| ------------ | ------------------- | -------------------- | -------- |\n",
    "| Strings      | \"Hi!\", '1.3'        | Text                 | No       |\n",
    "| Integers     | 49                  | Whole numbers        | No       |\n",
    "| Floats       | 3.14                | Decimal Numbers      | No       |\n",
    "| Booleans     | True, False         | Truth values         | No       |\n",
    "| Lists        | \\[1, 'a', [1.5, 2]\\]| A collection of data | Yes      |\n",
    "| Tuples       | (1, 2, 3, 4, 5)     | A collection of data | No       |\n",
    "| Dictionaries | {\"a\": 1, \"b\": True} | A collection of data | Yes      |"
   ]
  },
  {
   "cell_type": "code",
   "execution_count": 2,
   "metadata": {},
   "outputs": [
    {
     "name": "stdout",
     "output_type": "stream",
     "text": [
      "Student: Anna got A\n",
      "Variables data types:\n",
      "var_1 Hello World; type <class 'str'>\n",
      "var_2 254; type <class 'int'>\n",
      "var_3 25.43; type <class 'float'>\n",
      "var_4 ['Anna', 'Bella', 'Cora']; type <class 'list'>\n",
      "var_5 {'Course': 'ML', 'Grade': 'A'}; type <class 'dict'>\n"
     ]
    }
   ],
   "source": [
    "# Assigning data to variables\n",
    "var_1 = \"Hello World\"\n",
    "var_2 = 254\n",
    "var_3 = 25.43\n",
    "var_4 = [\"Anna\", \"Bella\", \"Cora\"]\n",
    "var_5 = {'Course': 'ML', 'Grade': 'A'} # key: value\n",
    "\n",
    "# You can access List elements with their index\n",
    "# and access Dict elements with their key\n",
    "print('Student:', var_4[0], 'got', var_5['Grade'])\n",
    "\n",
    "# When in doubt you can always check data types\n",
    "print('Variables data types:')\n",
    "print(f\"var_1 {var_1}; type {type(var_1)}\")\n",
    "print(f\"var_2 {var_2}; type {type(var_2)}\")\n",
    "print(f\"var_3 {var_3}; type {type(var_3)}\")\n",
    "print(f\"var_4 {var_4}; type {type(var_4)}\")\n",
    "print(f\"var_5 {var_5}; type {type(var_5)}\")"
   ]
  },
  {
   "cell_type": "markdown",
   "metadata": {
    "pycharm": {
     "name": "#%% md\n"
    }
   },
   "source": [
    "Using list and tuple"
   ]
  },
  {
   "cell_type": "code",
   "execution_count": 3,
   "metadata": {},
   "outputs": [
    {
     "name": "stdout",
     "output_type": "stream",
     "text": [
      "[2, 2, 3] [2, 2, 3]\n"
     ]
    }
   ],
   "source": [
    "x = [1, 2, 3]  # creating a list\n",
    "y = x  # assigning a reference\n",
    "y[0] += 1\n",
    "# The change is in both x and y because both point to the same object\n",
    "print(x, y)"
   ]
  },
  {
   "cell_type": "code",
   "execution_count": 4,
   "metadata": {},
   "outputs": [
    {
     "name": "stdout",
     "output_type": "stream",
     "text": [
      "(1, 2, 3) (1, 2, 3, 4, 5)\n"
     ]
    }
   ],
   "source": [
    "x = (1, 2, 3)  # creating a tuple\n",
    "y = x # assigning a reference\n",
    "# y[0] += 1 gives error because it's immutable\n",
    "y += (4, 5)  # a new tuple is generated to\n",
    "print(x, y)"
   ]
  },
  {
   "cell_type": "code",
   "execution_count": 5,
   "metadata": {
    "jupyter": {
     "outputs_hidden": false
    },
    "pycharm": {
     "name": "#%%\n"
    }
   },
   "outputs": [
    {
     "name": "stdout",
     "output_type": "stream",
     "text": [
      "x size: 10\n",
      "The second element in x: 2\n",
      "The last element in x: 10\n",
      "The first 3 elements in x: [1, 2, 3]\n"
     ]
    }
   ],
   "source": [
    "x = [1, 2, 3, 4, 5, 6, 7, 8, 9, 10]\n",
    "print(f\"x size: {len(x)}\")\n",
    "print(f\"The second element in x: {x[1]}\")\n",
    "print(f\"The last element in x: {x[-1]}\")\n",
    "print(f\"The first 3 elements in x: {x[:3]}\")  # also x[0: 3] works"
   ]
  },
  {
   "cell_type": "markdown",
   "metadata": {
    "pycharm": {
     "name": "#%% md\n"
    }
   },
   "source": [
    "### Task 1:\n",
    "Print the last 3 elements of x"
   ]
  },
  {
   "cell_type": "code",
   "execution_count": 6,
   "metadata": {
    "jupyter": {
     "outputs_hidden": false
    },
    "pycharm": {
     "name": "#%%\n"
    }
   },
   "outputs": [
    {
     "name": "stdout",
     "output_type": "stream",
     "text": [
      "[8, 9, 10]\n"
     ]
    }
   ],
   "source": [
    "# Solve here\n",
    "print(x[-3:])"
   ]
  },
  {
   "cell_type": "markdown",
   "metadata": {
    "pycharm": {
     "name": "#%% md\n"
    }
   },
   "source": [
    "## Operators\n",
    "[Reference](https://www.geeksforgeeks.org/python-operators/)\n",
    "\n",
    "When dealing with data, knowing python operators and how they work can make\n",
    "your code smaller and more efficient.\n",
    "\n",
    "We will look at the operator that might be new to you.\n",
    "Refer to this [reference](https://www.geeksforgeeks.org/python-operators/)\n",
    "for all the operations.\n",
    "\n",
    "| Operator | Description                                               | Syntax        |\n",
    "| -------- | --------------------------------------------------------- | ------------- |\n",
    "| //       | Division (floor): divides the first operand by the second | x//y          |\n",
    "| **       | Power: Returns first raised to power second               | x**y          |\n",
    "| is       | True if the operands are identical                        | x**y          |\n",
    "| is not   | True if the operands are not identical                    | x**y          |\n",
    "| in       | True if value is found in the sequence                    | x**y          |\n",
    "| not in   | True if value is not found in the sequence                | x**y          |\n",
    "| Ternary  | testing a condition in a single line                      | x if a else y |"
   ]
  },
  {
   "cell_type": "code",
   "execution_count": 7,
   "metadata": {},
   "outputs": [
    {
     "name": "stdout",
     "output_type": "stream",
     "text": [
      "3.3333333333333335 3\n"
     ]
    }
   ],
   "source": [
    "# //\tDivision (floor): divides and floor the output\n",
    "a = 10\n",
    "b = 3\n",
    "div = a / b\n",
    "div_floor = a // b\n",
    "\n",
    "print(div, div_floor)"
   ]
  },
  {
   "cell_type": "code",
   "execution_count": 8,
   "metadata": {},
   "outputs": [
    {
     "name": "stdout",
     "output_type": "stream",
     "text": [
      "2\n",
      "-3\n"
     ]
    }
   ],
   "source": [
    "# negative division could be counter intuitive\n",
    "print (5//2)\n",
    "print (-5//2) # floor(-2.333) gives the integer smaller -> -3"
   ]
  },
  {
   "cell_type": "markdown",
   "metadata": {},
   "source": [
    "Note: be careful with floating-points numbers  and their comparison! Sometimes roundoff in Python (as well as in other programming languages, though) works not as expected.\n",
    "\n",
    "That's the artifact of [computer arithmetic](https://docs.python.org/3/tutorial/floatingpoint.html):"
   ]
  },
  {
   "cell_type": "code",
   "execution_count": 9,
   "metadata": {},
   "outputs": [
    {
     "name": "stdout",
     "output_type": "stream",
     "text": [
      "False\n",
      "True\n"
     ]
    }
   ],
   "source": [
    "print(3*0.1 == 0.3)\n",
    "print(4*0.1 == 0.4)"
   ]
  },
  {
   "cell_type": "code",
   "execution_count": 10,
   "metadata": {
    "jupyter": {
     "outputs_hidden": false
    },
    "pycharm": {
     "name": "#%%\n"
    }
   },
   "outputs": [
    {
     "name": "stdout",
     "output_type": "stream",
     "text": [
      "1000\n"
     ]
    }
   ],
   "source": [
    "# Power\n",
    "pwr = a ** b\n",
    "print(pwr)"
   ]
  },
  {
   "cell_type": "code",
   "execution_count": 11,
   "metadata": {
    "jupyter": {
     "outputs_hidden": false
    },
    "pycharm": {
     "name": "#%%\n"
    }
   },
   "outputs": [
    {
     "name": "stdout",
     "output_type": "stream",
     "text": [
      "True\n",
      "True\n"
     ]
    }
   ],
   "source": [
    "# is, is not\n",
    "c = a\n",
    "print(a is not b)\n",
    "print(a is c)"
   ]
  },
  {
   "cell_type": "code",
   "execution_count": 12,
   "metadata": {
    "jupyter": {
     "outputs_hidden": false
    },
    "pycharm": {
     "name": "#%%\n"
    }
   },
   "outputs": [
    {
     "name": "stdout",
     "output_type": "stream",
     "text": [
      "True\n",
      "True\n"
     ]
    }
   ],
   "source": [
    "# in, not in\n",
    "x, y = 24, 20\n",
    "l = [10, 20, 30, 40, 50]\n",
    "\n",
    "print(x not in l)\n",
    "print(y in l)\n"
   ]
  },
  {
   "cell_type": "code",
   "execution_count": null,
   "metadata": {
    "jupyter": {
     "outputs_hidden": false
    },
    "pycharm": {
     "name": "#%%\n"
    }
   },
   "outputs": [],
   "source": [
    "# Ternary operator\n",
    "if a < b:\n",
    "    print(a)\n",
    "else:\n",
    "    print(b)\n",
    "\n",
    "# [on_true] if [expression] else [on_false]\n",
    "minimum = a if a < b else b\n",
    "print(minimum)"
   ]
  },
  {
   "cell_type": "markdown",
   "metadata": {
    "pycharm": {
     "name": "#%% md\n"
    }
   },
   "source": [
    "## Iteration\n",
    "The 2 main loops in python are `while` and `for` loops\n",
    "\n",
    "[Reference](https://www.geeksforgeeks.org/loops-in-python/)"
   ]
  },
  {
   "cell_type": "code",
   "execution_count": 13,
   "metadata": {
    "jupyter": {
     "outputs_hidden": false
    },
    "pycharm": {
     "name": "#%%\n"
    }
   },
   "outputs": [
    {
     "name": "stdout",
     "output_type": "stream",
     "text": [
      "count=1\n",
      "count=2\n",
      "count=3\n"
     ]
    }
   ],
   "source": [
    "# While loop\n",
    "count = 0\n",
    "while count < 3:\n",
    "    count = count + 1\n",
    "    print(f\"count={count}\")"
   ]
  },
  {
   "cell_type": "code",
   "execution_count": 14,
   "metadata": {
    "jupyter": {
     "outputs_hidden": false
    },
    "pycharm": {
     "name": "#%%\n"
    }
   },
   "outputs": [
    {
     "name": "stdout",
     "output_type": "stream",
     "text": [
      "count = 1\n",
      "count = 2\n",
      "count = 3\n",
      "In the else. count = 3\n"
     ]
    }
   ],
   "source": [
    "# Combining else with while to execute something after the loop\n",
    "count = 0\n",
    "while count < 3:\n",
    "    count = count + 1\n",
    "    print(f\"count = {count}\")\n",
    "else:\n",
    "    print(f\"In the else. count = {count}\")"
   ]
  },
  {
   "cell_type": "markdown",
   "metadata": {
    "pycharm": {
     "name": "#%% md\n"
    }
   },
   "source": [
    "[`range()`](https://docs.python.org/3/library/functions.html#func-range) is\n",
    "a built-in generator function that is used to generate numbers in a given range.\n",
    "\n",
    "It takes up to 3 parameter `start`, `stop`, `step`.\n",
    "If not given,`start` defaults to `0`, and `step` to `1`.\n",
    "\n",
    "Examples:\n",
    "- `range(0, 10, 1)` -> `[0, 1, 2, ..., 9]`. note that `stop` isn't included.\n",
    "- `range(0, 10, 2)` -> `[0, 2, 4, 6, 8]`. even numbers.\n",
    "- `range(0, 10)` -> Only `start` and `stop`. same as `range(0, 10, 1)`.\n",
    "- `range(10)` -> Only `stop`. same as `range(0, 10, 1)`.\n",
    "- `range(10, 0, -1)` -> `[10, 9, 8, ..., 1]`."
   ]
  },
  {
   "cell_type": "code",
   "execution_count": 15,
   "metadata": {
    "jupyter": {
     "outputs_hidden": false
    },
    "pycharm": {
     "name": "#%%\n"
    }
   },
   "outputs": [
    {
     "name": "stdout",
     "output_type": "stream",
     "text": [
      "looping over list elements by index using \"rang()\"\n",
      "10\n",
      "20\n",
      "30\n",
      "40\n",
      "looping over list elements using \"in\"\n",
      "10\n",
      "20\n",
      "30\n",
      "40\n"
     ]
    }
   ],
   "source": [
    "# range for loop\n",
    "my_list = [10, 20, 30, 40]\n",
    "print('looping over list elements by index using \"rang()\"')\n",
    "for i in range(0, len(my_list)):\n",
    "    print(my_list[i])\n",
    "\n",
    "print('looping over list elements using \"in\"')\n",
    "for element in my_list:\n",
    "    print(element)"
   ]
  },
  {
   "cell_type": "code",
   "execution_count": null,
   "metadata": {
    "jupyter": {
     "outputs_hidden": false
    },
    "pycharm": {
     "name": "#%%\n"
    }
   },
   "outputs": [
    {
     "name": "stdout",
     "output_type": "stream",
     "text": [
      "looping over list elements by index using \"rang()\"\n",
      "10\n",
      "30\n",
      "50\n"
     ]
    }
   ],
   "source": [
    "my_list = [10, 20, 30, 40, 50, 60, 70, 80]\n",
    "print('looping over list elements by index using \"rang()\"')\n",
    "for i in range(0, len(my_list)):\n",
    "    if i == 5:  # break the loop after 5 iterations\n",
    "        break\n",
    "    elif i%2 == 1:  # skipping odd indices\n",
    "        continue\n",
    "    print(my_list[i])"
   ]
  },
  {
   "cell_type": "markdown",
   "metadata": {},
   "source": [
    "### Task 2:\n",
    "Make a list that have all the integers from 0 to 99 that is divisible by 4 but\n",
    "not divisible by 6.\n",
    "\n",
    "Hint: `my_list.append(a)` add `a` to the end of the `my_list`."
   ]
  },
  {
   "cell_type": "code",
   "execution_count": 18,
   "metadata": {
    "jupyter": {
     "outputs_hidden": false
    },
    "pycharm": {
     "name": "#%%\n"
    }
   },
   "outputs": [
    {
     "name": "stdout",
     "output_type": "stream",
     "text": [
      "[4, 8, 16, 20, 28, 32, 40, 44, 52, 56, 64, 68, 76, 80, 88, 92]\n"
     ]
    }
   ],
   "source": [
    "# Solve here\n",
    "my_list = []\n",
    "for i in range(100) :\n",
    "    if i % 4 == 0 and i % 6 != 0 :\n",
    "        my_list.append(i)\n",
    "print(my_list)"
   ]
  },
  {
   "cell_type": "markdown",
   "metadata": {
    "pycharm": {
     "name": "#%% md\n"
    }
   },
   "source": [
    "## Functions\n",
    "Functions is very useful to use a block of code multiple time."
   ]
  },
  {
   "cell_type": "code",
   "execution_count": 19,
   "metadata": {
    "jupyter": {
     "outputs_hidden": false
    },
    "pycharm": {
     "name": "#%%\n"
    }
   },
   "outputs": [
    {
     "name": "stdout",
     "output_type": "stream",
     "text": [
      "Hi from a function\n",
      "Hi from a function\n"
     ]
    }
   ],
   "source": [
    "def my_function_name():\n",
    "    print('Hi from a function')\n",
    "\n",
    "my_function_name()\n",
    "my_function_name()"
   ]
  },
  {
   "cell_type": "code",
   "execution_count": 20,
   "metadata": {
    "jupyter": {
     "outputs_hidden": false
    },
    "pycharm": {
     "name": "#%%\n"
    }
   },
   "outputs": [
    {
     "name": "stdout",
     "output_type": "stream",
     "text": [
      "6\n"
     ]
    }
   ],
   "source": [
    "def double(x):\n",
    "    return x * 2\n",
    "\n",
    "print(double(3))"
   ]
  },
  {
   "cell_type": "markdown",
   "metadata": {
    "pycharm": {
     "name": "#%% md\n"
    }
   },
   "source": [
    "## Classes\n",
    "Python is OOP langauge. Here are how classes are used\n",
    "\n",
    "[Reference](https://www.geeksforgeeks.org/python-classes-and-objects/)"
   ]
  },
  {
   "cell_type": "code",
   "execution_count": 22,
   "metadata": {
    "jupyter": {
     "outputs_hidden": false
    },
    "pycharm": {
     "name": "#%%\n"
    }
   },
   "outputs": [
    {
     "name": "stdout",
     "output_type": "stream",
     "text": [
      "mammal\n",
      "I'm a mammal\n",
      "I'm a dog\n"
     ]
    }
   ],
   "source": [
    "class Dog:\n",
    "    # A simple class\n",
    "    # attribute\n",
    "    attr1 = \"mammal\"\n",
    "    attr2 = \"dog\"\n",
    "\n",
    "    # A sample method\n",
    "    def fun(self):\n",
    "        print(\"I'm a\", self.attr1)\n",
    "        print(\"I'm a\", self.attr2)\n",
    "\n",
    "# Object instantiation\n",
    "Rodger = Dog()\n",
    "\n",
    "# Accessing class attributes\n",
    "# and method through objects\n",
    "print(Rodger.attr1)\n",
    "Rodger.fun()"
   ]
  },
  {
   "cell_type": "markdown",
   "metadata": {},
   "source": [
    "### Task 3:\n",
    "\n",
    "Add a function to `Dog` class named `bark`. It should accept a string argument 's' and print f\"I'm barking {s}\"\n",
    "\n",
    "Be careful with arguments in class function. Which argument should go first?"
   ]
  },
  {
   "cell_type": "code",
   "execution_count": 25,
   "metadata": {},
   "outputs": [
    {
     "name": "stdout",
     "output_type": "stream",
     "text": [
      "I'm barking bark\n"
     ]
    }
   ],
   "source": [
    "# Solve here\n",
    "class Dog:\n",
    "    # A simple class\n",
    "    # attribute\n",
    "    attr1 = \"mammal\"\n",
    "    attr2 = \"dog\"\n",
    "\n",
    "    # A sample method\n",
    "    def fun(self):\n",
    "        print(\"I'm a\", self.attr1)\n",
    "        print(\"I'm a\", self.attr2)\n",
    "    \n",
    "    def bark(self, s):\n",
    "        print(f\"I'm barking {s}\")\n",
    "\n",
    "Someone = Dog()\n",
    "Someone.bark(\"bark\")"
   ]
  },
  {
   "cell_type": "markdown",
   "metadata": {
    "pycharm": {
     "name": "#%% md\n"
    }
   },
   "source": [
    "---\n",
    "## Install external modules\n",
    "Python community offers a huge variety of modules to eliminate the need for\n",
    "writing codes from scratch.\n",
    "[pip](https://pypi.org/project/pip/) is a package installer for Python. You\n",
    "can use pip to install packages from the Python Package Index and other indexes.\n",
    "\n",
    "To install a package you can run this command in your terminal:\n",
    "- Unix/macOS: `python3 -m pip install <package name>` or `pip3 install <package name>`\n",
    "- Windows: `py -m pip install <package name>` or `pip install <package name>`\n",
    "\n",
    "[Further reading](https://pip.pypa.io/en/stable/cli/pip_install/)\n",
    "on pip usage and how to write and install requirements files.\n",
    "\n",
    "You can also run terminal command from your jupyter notebook using\n",
    "[magic commands](https://ipython.readthedocs.io/en/stable/interactive/magics.html)\n",
    "\n",
    "To do so, you put `!` before your command so that jupyter understand executing\n",
    "it in the terminal."
   ]
  },
  {
   "cell_type": "code",
   "execution_count": null,
   "metadata": {
    "jupyter": {
     "outputs_hidden": false
    },
    "pycharm": {
     "name": "#%%\n"
    }
   },
   "outputs": [],
   "source": [
    "# https://ipython.readthedocs.io/en/stable/interactive/magics.html#magic-sx\n",
    "pip install numpy"
   ]
  },
  {
   "cell_type": "markdown",
   "metadata": {
    "jupyter": {
     "outputs_hidden": false
    },
    "pycharm": {
     "name": "#%% md\n"
    }
   },
   "source": [
    "---\n",
    "## Numpy\n",
    "While python is a powerful, it is very slow compared to C/C++ since it's and\n",
    "interpreted language with dynamic typing. Numpy is python library that is\n",
    "implemented in C/C++. giving us the ease of development of python with the\n",
    "performance of C. depending on the operation numpy could be up to 100x faster.\n",
    "Moreover, it has various functions to perform linear algebra and array operations.\n",
    "\n",
    "[Reference](https://numpy.org/doc/stable/user/absolute_beginners.html)"
   ]
  },
  {
   "cell_type": "code",
   "execution_count": 26,
   "metadata": {
    "pycharm": {
     "name": "#%%\n"
    }
   },
   "outputs": [],
   "source": [
    "import numpy as np"
   ]
  },
  {
   "cell_type": "code",
   "execution_count": 27,
   "metadata": {
    "jupyter": {
     "outputs_hidden": false
    },
    "pycharm": {
     "name": "#%%\n"
    }
   },
   "outputs": [
    {
     "name": "stdout",
     "output_type": "stream",
     "text": [
      "[  62  -60   62  -12   61   98   58   83   90   -5 -100   70   48   19\n",
      "   -3   -4  -51  -98  -38   51]\n"
     ]
    }
   ],
   "source": [
    "my_np_list = np.random.randint(low=-100, high=100, size=20)\n",
    "print(my_np_list)"
   ]
  },
  {
   "cell_type": "markdown",
   "metadata": {},
   "source": [
    "Here is some of the most common used function"
   ]
  },
  {
   "cell_type": "code",
   "execution_count": 28,
   "metadata": {
    "jupyter": {
     "outputs_hidden": false
    },
    "pycharm": {
     "name": "#%%\n"
    }
   },
   "outputs": [
    {
     "name": "stdout",
     "output_type": "stream",
     "text": [
      "shape: (20,)\n",
      "sum: 331\n",
      "min: -100\n",
      "max: 98\n",
      "abs: [ 62  60  62  12  61  98  58  83  90   5 100  70  48  19   3   4  51  98\n",
      "  38  51]\n",
      "after .sort(): [-100  -98  -60  -51  -38  -12   -5   -4   -3   19   48   51   58   61\n",
      "   62   62   70   83   90   98]\n",
      "doubling the array [-200 -196 -120 -102  -76  -24  -10   -8   -6   38   96  102  116  122\n",
      "  124  124  140  166  180  196]\n"
     ]
    }
   ],
   "source": [
    "print('shape:', my_np_list.shape)\n",
    "print('sum:', my_np_list.sum())\n",
    "print('min:', my_np_list.min())\n",
    "print('max:', my_np_list.max())\n",
    "print('abs:', np.abs(my_np_list))\n",
    "my_np_list.sort()\n",
    "print('after .sort():', my_np_list)\n",
    "print('doubling the array', my_np_list * 2) # broadcasting"
   ]
  },
  {
   "cell_type": "markdown",
   "metadata": {
    "jupyter": {
     "outputs_hidden": false
    },
    "pycharm": {
     "name": "#%% md\n"
    }
   },
   "source": [
    "### Task 4:\n",
    "Print the mean, variance and standard deviation of `my_np_list`"
   ]
  },
  {
   "cell_type": "code",
   "execution_count": 30,
   "metadata": {
    "jupyter": {
     "outputs_hidden": false
    },
    "pycharm": {
     "name": "#%%\n"
    }
   },
   "outputs": [
    {
     "name": "stdout",
     "output_type": "stream",
     "text": [
      "16.55\n",
      "3574.8475000000008\n",
      "59.790028432841545\n"
     ]
    }
   ],
   "source": [
    "# Solve here\n",
    "print(np.mean(my_np_list))\n",
    "print(np.var(my_np_list))\n",
    "print(np.std(my_np_list))"
   ]
  },
  {
   "cell_type": "code",
   "execution_count": 31,
   "metadata": {
    "pycharm": {
     "name": "#%%\n"
    }
   },
   "outputs": [
    {
     "name": "stdout",
     "output_type": "stream",
     "text": [
      "[[ 1  2  3  4]\n",
      " [ 5  6  7  8]\n",
      " [ 9 10 11 12]]\n",
      "x.shape = (3, 4)\n",
      "accessing element: 7\n",
      "slice of an array: [[3]\n",
      " [7]]\n",
      "row: [1 2 3 4]\n",
      "column: [1 5 9]\n"
     ]
    }
   ],
   "source": [
    "# 2D arrays\n",
    "x = np.array(\n",
    "    [\n",
    "        [1, 2, 3, 4],\n",
    "        [5, 6, 7, 8],\n",
    "        [9, 10, 11, 12],\n",
    "    ],\n",
    "    np.int32,\n",
    ")\n",
    "print(x)\n",
    "print(f'{x.shape = }')\n",
    "print('accessing element:', x[1, 2])\n",
    "print('slice of an array:', x[0:2, 2:3])\n",
    "print('row:', x[0, :])\n",
    "print('column:', x[:, 0])"
   ]
  },
  {
   "cell_type": "code",
   "execution_count": 32,
   "metadata": {
    "jupyter": {
     "outputs_hidden": false
    },
    "pycharm": {
     "name": "#%%\n"
    }
   },
   "outputs": [
    {
     "name": "stdout",
     "output_type": "stream",
     "text": [
      "numpy is 3.2436801188771907  times faster than list\n"
     ]
    }
   ],
   "source": [
    "# speed\n",
    "from time import time\n",
    "\n",
    "st = time()\n",
    "my_list = [1] * 10000000\n",
    "sum(my_list)\n",
    "list_time = time()-st\n",
    "\n",
    "st = time()\n",
    "my_np_list = np.ones(10000000)\n",
    "my_np_list.sum()\n",
    "np_time = time()-st\n",
    "\n",
    "print('numpy is', list_time/np_time, ' times faster than list')"
   ]
  },
  {
   "cell_type": "markdown",
   "metadata": {
    "jupyter": {
     "outputs_hidden": false
    },
    "pycharm": {
     "name": "#%% md\n"
    }
   },
   "source": [
    "### Task 5:\n",
    "Install the following packages: `matplotlib`, `pandas`, `seaborn` and `sklearn`"
   ]
  },
  {
   "cell_type": "code",
   "execution_count": 35,
   "metadata": {
    "jupyter": {
     "outputs_hidden": false
    },
    "pycharm": {
     "name": "#%%\n"
    }
   },
   "outputs": [],
   "source": [
    "# # Solve here\n",
    "# pip install matplotlib\n",
    "# pip install pandas\n",
    "# pip install seaborn\n",
    "# pip install sklearn"
   ]
  },
  {
   "cell_type": "markdown",
   "metadata": {},
   "source": [
    "---\n",
    "## Matplotlib\n",
    "Matplotlib is a comprehensive library for creating static, animated, and\n",
    "interactive visualizations in Python.\n",
    "\n",
    "[Reference](https://matplotlib.org/stable/tutorials/introductory/pyplot.html#sphx-glr-tutorials-introductory-pyplot-py)"
   ]
  },
  {
   "cell_type": "code",
   "execution_count": 36,
   "metadata": {
    "jupyter": {
     "outputs_hidden": false
    },
    "pycharm": {
     "name": "#%%\n"
    }
   },
   "outputs": [],
   "source": [
    "import matplotlib.pyplot as plt\n",
    "# to plot in side the notebook\n",
    "# %matplotlib inline \n",
    "# %matplotlib widget\n"
   ]
  },
  {
   "cell_type": "code",
   "execution_count": 37,
   "metadata": {
    "jupyter": {
     "outputs_hidden": false
    },
    "pycharm": {
     "name": "#%%\n"
    }
   },
   "outputs": [
    {
     "data": {
      "image/png": "[encoded data removed]",
      "text/plain": [
       "<Figure size 640x480 with 1 Axes>"
      ]
     },
     "metadata": {},
     "output_type": "display_data"
    }
   ],
   "source": [
    "# Line plot\n",
    "t = np.arange(0.0, 2.0, 0.01)\n",
    "s = 1 + np.sin(2 * np.pi * t)\n",
    "\n",
    "fig, ax = plt.subplots()\n",
    "ax.plot(t, s)\n",
    "\n",
    "ax.set(xlabel='Hours studied (s)', ylabel='voltage (mV)',\n",
    "       title='Change in volt over time')\n",
    "ax.grid()\n",
    "plt.show() # Show the plot"
   ]
  },
  {
   "cell_type": "code",
   "execution_count": 38,
   "metadata": {
    "jupyter": {
     "outputs_hidden": false
    },
    "pycharm": {
     "name": "#%%\n"
    }
   },
   "outputs": [
    {
     "data": {
      "image/png": "[encoded data removed]",
      "text/plain": [
       "<Figure size 900x500 with 3 Axes>"
      ]
     },
     "metadata": {},
     "output_type": "display_data"
    }
   ],
   "source": [
    "# different plots for categorical data\n",
    "names = ['group_a', 'group_b', 'group_c']\n",
    "values = [1, 10, 100]\n",
    "\n",
    "plt.figure(figsize=(9, 5))\n",
    "\n",
    "plt.subplot(131)  # To creat 1 by 3 grid and plot in the 1st subplot\n",
    "plt.bar(names, values)\n",
    "plt.subplot(132)  # plot in the 2nd subplot\n",
    "plt.scatter(names, values)\n",
    "plt.subplot(133)  # plot in the 3nd subplot\n",
    "plt.plot(names, values)\n",
    "plt.suptitle('Categorical Plotting')\n",
    "plt.show()"
   ]
  },
  {
   "cell_type": "markdown",
   "metadata": {
    "jupyter": {
     "outputs_hidden": false
    },
    "pycharm": {
     "name": "#%% md\n"
    }
   },
   "source": [
    "---\n",
    "## Pandas\n",
    "[Pandas](https://pandas.pydata.org/docs/) is a fast, powerful, flexible and\n",
    "easy to use open source data analysis and manipulation tool.\n"
   ]
  },
  {
   "cell_type": "code",
   "execution_count": 39,
   "metadata": {
    "jupyter": {
     "outputs_hidden": false
    },
    "pycharm": {
     "name": "#%%\n"
    }
   },
   "outputs": [],
   "source": [
    "import pandas as pd"
   ]
  },
  {
   "cell_type": "code",
   "execution_count": 40,
   "metadata": {
    "jupyter": {
     "outputs_hidden": false
    },
    "pycharm": {
     "name": "#%%\n"
    }
   },
   "outputs": [
    {
     "name": "stdout",
     "output_type": "stream",
     "text": [
      "<class 'pandas.core.frame.DataFrame'>\n",
      "RangeIndex: 48 entries, 0 to 47\n",
      "Data columns (total 5 columns):\n",
      " #   Column                        Non-Null Count  Dtype  \n",
      "---  ------                        --------------  -----  \n",
      " 0   Petrol_tax                    48 non-null     float64\n",
      " 1   Average_income                48 non-null     int64  \n",
      " 2   Paved_Highways                48 non-null     int64  \n",
      " 3   Population_Driver_licence(%)  48 non-null     float64\n",
      " 4   Petrol_Consumption            48 non-null     int64  \n",
      "dtypes: float64(2), int64(3)\n",
      "memory usage: 2.0 KB\n"
     ]
    }
   ],
   "source": [
    "df = pd.read_csv('petrol_consumption.csv')\n",
    "df.info()"
   ]
  },
  {
   "cell_type": "code",
   "execution_count": 41,
   "metadata": {
    "jupyter": {
     "outputs_hidden": false
    },
    "pycharm": {
     "name": "#%%\n"
    }
   },
   "outputs": [
    {
     "data": {
      "text/html": [
       "<div>\n",
       "<style scoped>\n",
       "    .dataframe tbody tr th:only-of-type {\n",
       "        vertical-align: middle;\n",
       "    }\n",
       "\n",
       "    .dataframe tbody tr th {\n",
       "        vertical-align: top;\n",
       "    }\n",
       "\n",
       "    .dataframe thead th {\n",
       "        text-align: right;\n",
       "    }\n",
       "</style>\n",
       "<table border=\"1\" class=\"dataframe\">\n",
       "  <thead>\n",
       "    <tr style=\"text-align: right;\">\n",
       "      <th></th>\n",
       "      <th>Petrol_tax</th>\n",
       "      <th>Average_income</th>\n",
       "      <th>Paved_Highways</th>\n",
       "      <th>Population_Driver_licence(%)</th>\n",
       "      <th>Petrol_Consumption</th>\n",
       "    </tr>\n",
       "  </thead>\n",
       "  <tbody>\n",
       "    <tr>\n",
       "      <th>0</th>\n",
       "      <td>9.0</td>\n",
       "      <td>3571</td>\n",
       "      <td>1976</td>\n",
       "      <td>0.525</td>\n",
       "      <td>541</td>\n",
       "    </tr>\n",
       "    <tr>\n",
       "      <th>1</th>\n",
       "      <td>9.0</td>\n",
       "      <td>4092</td>\n",
       "      <td>1250</td>\n",
       "      <td>0.572</td>\n",
       "      <td>524</td>\n",
       "    </tr>\n",
       "    <tr>\n",
       "      <th>2</th>\n",
       "      <td>9.0</td>\n",
       "      <td>3865</td>\n",
       "      <td>1586</td>\n",
       "      <td>0.580</td>\n",
       "      <td>561</td>\n",
       "    </tr>\n",
       "    <tr>\n",
       "      <th>3</th>\n",
       "      <td>7.5</td>\n",
       "      <td>4870</td>\n",
       "      <td>2351</td>\n",
       "      <td>0.529</td>\n",
       "      <td>414</td>\n",
       "    </tr>\n",
       "    <tr>\n",
       "      <th>4</th>\n",
       "      <td>8.0</td>\n",
       "      <td>4399</td>\n",
       "      <td>431</td>\n",
       "      <td>0.544</td>\n",
       "      <td>410</td>\n",
       "    </tr>\n",
       "  </tbody>\n",
       "</table>\n",
       "</div>"
      ],
      "text/plain": [
       "   Petrol_tax  Average_income  Paved_Highways  Population_Driver_licence(%)  \\\n",
       "0         9.0            3571            1976                         0.525   \n",
       "1         9.0            4092            1250                         0.572   \n",
       "2         9.0            3865            1586                         0.580   \n",
       "3         7.5            4870            2351                         0.529   \n",
       "4         8.0            4399             431                         0.544   \n",
       "\n",
       "   Petrol_Consumption  \n",
       "0                 541  \n",
       "1                 524  \n",
       "2                 561  \n",
       "3                 414  \n",
       "4                 410  "
      ]
     },
     "execution_count": 41,
     "metadata": {},
     "output_type": "execute_result"
    }
   ],
   "source": [
    "df.head(5)"
   ]
  },
  {
   "cell_type": "code",
   "execution_count": 42,
   "metadata": {
    "jupyter": {
     "outputs_hidden": false
    },
    "pycharm": {
     "name": "#%%\n"
    }
   },
   "outputs": [
    {
     "data": {
      "text/html": [
       "<div>\n",
       "<style scoped>\n",
       "    .dataframe tbody tr th:only-of-type {\n",
       "        vertical-align: middle;\n",
       "    }\n",
       "\n",
       "    .dataframe tbody tr th {\n",
       "        vertical-align: top;\n",
       "    }\n",
       "\n",
       "    .dataframe thead th {\n",
       "        text-align: right;\n",
       "    }\n",
       "</style>\n",
       "<table border=\"1\" class=\"dataframe\">\n",
       "  <thead>\n",
       "    <tr style=\"text-align: right;\">\n",
       "      <th></th>\n",
       "      <th>Petrol_tax</th>\n",
       "      <th>Average_income</th>\n",
       "      <th>Paved_Highways</th>\n",
       "      <th>Population_Driver_licence(%)</th>\n",
       "      <th>Petrol_Consumption</th>\n",
       "    </tr>\n",
       "  </thead>\n",
       "  <tbody>\n",
       "    <tr>\n",
       "      <th>count</th>\n",
       "      <td>48.000000</td>\n",
       "      <td>48.000000</td>\n",
       "      <td>48.000000</td>\n",
       "      <td>48.000000</td>\n",
       "      <td>48.000000</td>\n",
       "    </tr>\n",
       "    <tr>\n",
       "      <th>mean</th>\n",
       "      <td>7.668333</td>\n",
       "      <td>4241.833333</td>\n",
       "      <td>5565.416667</td>\n",
       "      <td>0.570333</td>\n",
       "      <td>576.770833</td>\n",
       "    </tr>\n",
       "    <tr>\n",
       "      <th>std</th>\n",
       "      <td>0.950770</td>\n",
       "      <td>573.623768</td>\n",
       "      <td>3491.507166</td>\n",
       "      <td>0.055470</td>\n",
       "      <td>111.885816</td>\n",
       "    </tr>\n",
       "    <tr>\n",
       "      <th>min</th>\n",
       "      <td>5.000000</td>\n",
       "      <td>3063.000000</td>\n",
       "      <td>431.000000</td>\n",
       "      <td>0.451000</td>\n",
       "      <td>344.000000</td>\n",
       "    </tr>\n",
       "    <tr>\n",
       "      <th>25%</th>\n",
       "      <td>7.000000</td>\n",
       "      <td>3739.000000</td>\n",
       "      <td>3110.250000</td>\n",
       "      <td>0.529750</td>\n",
       "      <td>509.500000</td>\n",
       "    </tr>\n",
       "    <tr>\n",
       "      <th>50%</th>\n",
       "      <td>7.500000</td>\n",
       "      <td>4298.000000</td>\n",
       "      <td>4735.500000</td>\n",
       "      <td>0.564500</td>\n",
       "      <td>568.500000</td>\n",
       "    </tr>\n",
       "    <tr>\n",
       "      <th>75%</th>\n",
       "      <td>8.125000</td>\n",
       "      <td>4578.750000</td>\n",
       "      <td>7156.000000</td>\n",
       "      <td>0.595250</td>\n",
       "      <td>632.750000</td>\n",
       "    </tr>\n",
       "    <tr>\n",
       "      <th>max</th>\n",
       "      <td>10.000000</td>\n",
       "      <td>5342.000000</td>\n",
       "      <td>17782.000000</td>\n",
       "      <td>0.724000</td>\n",
       "      <td>968.000000</td>\n",
       "    </tr>\n",
       "  </tbody>\n",
       "</table>\n",
       "</div>"
      ],
      "text/plain": [
       "       Petrol_tax  Average_income  Paved_Highways  \\\n",
       "count   48.000000       48.000000       48.000000   \n",
       "mean     7.668333     4241.833333     5565.416667   \n",
       "std      0.950770      573.623768     3491.507166   \n",
       "min      5.000000     3063.000000      431.000000   \n",
       "25%      7.000000     3739.000000     3110.250000   \n",
       "50%      7.500000     4298.000000     4735.500000   \n",
       "75%      8.125000     4578.750000     7156.000000   \n",
       "max     10.000000     5342.000000    17782.000000   \n",
       "\n",
       "       Population_Driver_licence(%)  Petrol_Consumption  \n",
       "count                     48.000000           48.000000  \n",
       "mean                       0.570333          576.770833  \n",
       "std                        0.055470          111.885816  \n",
       "min                        0.451000          344.000000  \n",
       "25%                        0.529750          509.500000  \n",
       "50%                        0.564500          568.500000  \n",
       "75%                        0.595250          632.750000  \n",
       "max                        0.724000          968.000000  "
      ]
     },
     "execution_count": 42,
     "metadata": {},
     "output_type": "execute_result"
    }
   ],
   "source": [
    "df.describe()"
   ]
  },
  {
   "cell_type": "code",
   "execution_count": 43,
   "metadata": {
    "jupyter": {
     "outputs_hidden": false
    },
    "pycharm": {
     "name": "#%%\n"
    }
   },
   "outputs": [
    {
     "name": "stdout",
     "output_type": "stream",
     "text": [
      "0    9.0\n",
      "1    9.0\n",
      "2    9.0\n",
      "3    7.5\n",
      "4    8.0\n",
      "Name: Petrol_tax, dtype: float64\n",
      "   Average_income  Paved_Highways\n",
      "0            3571            1976\n",
      "1            4092            1250\n",
      "2            3865            1586\n",
      "3            4870            2351\n",
      "4            4399             431\n"
     ]
    }
   ],
   "source": [
    "# access a columns\n",
    "print(df['Petrol_tax'].head())\n",
    "print(df[['Average_income', 'Paved_Highways']].head())"
   ]
  },
  {
   "cell_type": "code",
   "execution_count": 44,
   "metadata": {
    "pycharm": {
     "name": "#%%\n"
    }
   },
   "outputs": [
    {
     "data": {
      "text/html": [
       "<div>\n",
       "<style scoped>\n",
       "    .dataframe tbody tr th:only-of-type {\n",
       "        vertical-align: middle;\n",
       "    }\n",
       "\n",
       "    .dataframe tbody tr th {\n",
       "        vertical-align: top;\n",
       "    }\n",
       "\n",
       "    .dataframe thead th {\n",
       "        text-align: right;\n",
       "    }\n",
       "</style>\n",
       "<table border=\"1\" class=\"dataframe\">\n",
       "  <thead>\n",
       "    <tr style=\"text-align: right;\">\n",
       "      <th></th>\n",
       "      <th>Petrol_tax</th>\n",
       "      <th>Average_income</th>\n",
       "      <th>Paved_Highways</th>\n",
       "      <th>Population_Driver_licence(%)</th>\n",
       "      <th>Petrol_Consumption</th>\n",
       "    </tr>\n",
       "  </thead>\n",
       "  <tbody>\n",
       "    <tr>\n",
       "      <th>1</th>\n",
       "      <td>9.0</td>\n",
       "      <td>4092</td>\n",
       "      <td>1250</td>\n",
       "      <td>0.572</td>\n",
       "      <td>524</td>\n",
       "    </tr>\n",
       "    <tr>\n",
       "      <th>2</th>\n",
       "      <td>9.0</td>\n",
       "      <td>3865</td>\n",
       "      <td>1586</td>\n",
       "      <td>0.580</td>\n",
       "      <td>561</td>\n",
       "    </tr>\n",
       "    <tr>\n",
       "      <th>4</th>\n",
       "      <td>8.0</td>\n",
       "      <td>4399</td>\n",
       "      <td>431</td>\n",
       "      <td>0.544</td>\n",
       "      <td>410</td>\n",
       "    </tr>\n",
       "  </tbody>\n",
       "</table>\n",
       "</div>"
      ],
      "text/plain": [
       "   Petrol_tax  Average_income  Paved_Highways  Population_Driver_licence(%)  \\\n",
       "1         9.0            4092            1250                         0.572   \n",
       "2         9.0            3865            1586                         0.580   \n",
       "4         8.0            4399             431                         0.544   \n",
       "\n",
       "   Petrol_Consumption  \n",
       "1                 524  \n",
       "2                 561  \n",
       "4                 410  "
      ]
     },
     "execution_count": 44,
     "metadata": {},
     "output_type": "execute_result"
    }
   ],
   "source": [
    "# access a rows\n",
    "df.iloc[[1, 2, 4]]"
   ]
  },
  {
   "cell_type": "code",
   "execution_count": 45,
   "metadata": {
    "jupyter": {
     "outputs_hidden": false
    },
    "pycharm": {
     "name": "#%%\n"
    }
   },
   "outputs": [
    {
     "data": {
      "text/html": [
       "<div>\n",
       "<style scoped>\n",
       "    .dataframe tbody tr th:only-of-type {\n",
       "        vertical-align: middle;\n",
       "    }\n",
       "\n",
       "    .dataframe tbody tr th {\n",
       "        vertical-align: top;\n",
       "    }\n",
       "\n",
       "    .dataframe thead th {\n",
       "        text-align: right;\n",
       "    }\n",
       "</style>\n",
       "<table border=\"1\" class=\"dataframe\">\n",
       "  <thead>\n",
       "    <tr style=\"text-align: right;\">\n",
       "      <th></th>\n",
       "      <th>Petrol_tax</th>\n",
       "      <th>Population_Driver_licence(%)</th>\n",
       "      <th>Petrol_Consumption</th>\n",
       "    </tr>\n",
       "  </thead>\n",
       "  <tbody>\n",
       "    <tr>\n",
       "      <th>0</th>\n",
       "      <td>9.0</td>\n",
       "      <td>0.525</td>\n",
       "      <td>541</td>\n",
       "    </tr>\n",
       "    <tr>\n",
       "      <th>1</th>\n",
       "      <td>9.0</td>\n",
       "      <td>0.572</td>\n",
       "      <td>524</td>\n",
       "    </tr>\n",
       "    <tr>\n",
       "      <th>2</th>\n",
       "      <td>9.0</td>\n",
       "      <td>0.580</td>\n",
       "      <td>561</td>\n",
       "    </tr>\n",
       "    <tr>\n",
       "      <th>3</th>\n",
       "      <td>7.5</td>\n",
       "      <td>0.529</td>\n",
       "      <td>414</td>\n",
       "    </tr>\n",
       "    <tr>\n",
       "      <th>4</th>\n",
       "      <td>8.0</td>\n",
       "      <td>0.544</td>\n",
       "      <td>410</td>\n",
       "    </tr>\n",
       "  </tbody>\n",
       "</table>\n",
       "</div>"
      ],
      "text/plain": [
       "   Petrol_tax  Population_Driver_licence(%)  Petrol_Consumption\n",
       "0         9.0                         0.525                 541\n",
       "1         9.0                         0.572                 524\n",
       "2         9.0                         0.580                 561\n",
       "3         7.5                         0.529                 414\n",
       "4         8.0                         0.544                 410"
      ]
     },
     "execution_count": 45,
     "metadata": {},
     "output_type": "execute_result"
    }
   ],
   "source": [
    "# dropping a column\n",
    "new_df = df.drop(['Average_income', 'Paved_Highways'], axis=1)\n",
    "new_df.head()"
   ]
  },
  {
   "cell_type": "code",
   "execution_count": null,
   "metadata": {
    "pycharm": {
     "name": "#%%\n"
    }
   },
   "outputs": [],
   "source": [
    "# Drop a row by index\n",
    "new_df = df.drop([0, 1])\n",
    "new_df.head()"
   ]
  },
  {
   "cell_type": "code",
   "execution_count": 46,
   "metadata": {
    "jupyter": {
     "outputs_hidden": false
    },
    "pycharm": {
     "name": "#%%\n"
    }
   },
   "outputs": [
    {
     "name": "stdout",
     "output_type": "stream",
     "text": [
      "Sum of columns  Petrol_tax                         368.080\n",
      "Average_income                  203608.000\n",
      "Paved_Highways                  267140.000\n",
      "Population_Driver_licence(%)        27.376\n",
      "Petrol_Consumption               27685.000\n",
      "dtype: float64\n",
      "Sum of all the data frame 498828.45599999995\n",
      "Mean of columns Petrol_tax                         7.668333\n",
      "Average_income                  4241.833333\n",
      "Paved_Highways                  5565.416667\n",
      "Population_Driver_licence(%)       0.570333\n",
      "Petrol_Consumption               576.770833\n",
      "dtype: float64\n",
      "Converting dataframe to numpy array <class 'numpy.ndarray'>\n"
     ]
    }
   ],
   "source": [
    "# pandas support many operations similar to numpy\n",
    "print(f\"Sum of columns  {df.sum()}\")\n",
    "print(f\"Sum of all the data frame {df.sum().sum()}\")\n",
    "print(f\"Mean of columns {df.mean()}\")\n",
    "print(f\"Converting dataframe to numpy array {type(df.to_numpy())}\")"
   ]
  },
  {
   "cell_type": "markdown",
   "metadata": {
    "pycharm": {
     "name": "#%% md\n"
    }
   },
   "source": [
    "---\n",
    "## SKLearn\n",
    "\n",
    "[SKLearn](https://scikit-learn.org/stable/modules/classes.html) is a simple\n",
    "and efficient tools for predictive data analysis.\n",
    "We will use it for classification, regression and clustering algorithms.\n",
    "\n",
    "Usually datasets have two parts, data(or features) and targets(or labels).\n",
    "We train our machine learning model to predict the target of a sample given\n",
    "its features."
   ]
  },
  {
   "cell_type": "code",
   "execution_count": 47,
   "metadata": {
    "pycharm": {
     "name": "#%%\n"
    }
   },
   "outputs": [
    {
     "name": "stdout",
     "output_type": "stream",
     "text": [
      "Dataset shape: iris.data.shape = (150, 4), iris.target.shape = (150,)\n",
      "Example of a sample: features: [5.1 3.5 1.4 0.2], classification: 0\n"
     ]
    }
   ],
   "source": [
    "# sklearn has some datasets inside it to learn and test on them\n",
    "from sklearn import datasets\n",
    "iris = datasets.load_iris()\n",
    "print(f'Dataset shape: {iris.data.shape = }, {iris.target.shape = }')\n",
    "print(f'Example of a sample: features: {iris.data[0]}, classification: {iris.target[0]}')"
   ]
  },
  {
   "cell_type": "markdown",
   "metadata": {},
   "source": [
    "SKLearn gives a simple API to build models. Mainly it consists of two steps:\n",
    "- Model creation: where we choose the model and set its parameters\n",
    "- Fitting the data: Where we give our model the training data to learn from\n",
    "- Prediction: where we can predict the label of a sample\n",
    "\n",
    "`svm` is a prediction model(we will study how it works later in the course).\n",
    "\n",
    "Here is an example on how to use an SKLearn model:"
   ]
  },
  {
   "cell_type": "code",
   "execution_count": 48,
   "metadata": {
    "pycharm": {
     "name": "#%%\n"
    }
   },
   "outputs": [
    {
     "name": "stdout",
     "output_type": "stream",
     "text": [
      "Our prediction [2] True value: [2]\n"
     ]
    }
   ],
   "source": [
    "from sklearn import svm\n",
    "# setting the parameters needed by the algorithm\n",
    "clf = svm.SVC(gamma=0.001, C=100.)\n",
    "# Training on all the data except the last one\n",
    "clf.fit(iris.data[:-1], iris.target[:-1])\n",
    "# predicting the last sample\n",
    "print('Our prediction', clf.predict(iris.data[-1:]), 'True value:', iris.target[-1:])"
   ]
  },
  {
   "cell_type": "markdown",
   "metadata": {},
   "source": [
    "---\n",
    "# Self-Practice\n",
    "Using the iris dataset used in the lab, plot each feature and the target data\n",
    "using matplotlib.\n",
    "Write your observation on the relationship between the target and each feature.\n",
    "What do you think is the most important features? Why?"
   ]
  },
  {
   "cell_type": "code",
   "execution_count": null,
   "metadata": {},
   "outputs": [
    {
     "data": {
      "text/plain": [
       "array([0, 0, 0, 0, 0, 0, 0, 0, 0, 0, 0, 0, 0, 0, 0, 0, 0, 0, 0, 0, 0, 0,\n",
       "       0, 0, 0, 0, 0, 0, 0, 0, 0, 0, 0, 0, 0, 0, 0, 0, 0, 0, 0, 0, 0, 0,\n",
       "       0, 0, 0, 0, 0, 0, 1, 1, 1, 1, 1, 1, 1, 1, 1, 1, 1, 1, 1, 1, 1, 1,\n",
       "       1, 1, 1, 1, 1, 1, 1, 1, 1, 1, 1, 1, 1, 1, 1, 1, 1, 1, 1, 1, 1, 1,\n",
       "       1, 1, 1, 1, 1, 1, 1, 1, 1, 1, 1, 1, 2, 2, 2, 2, 2, 2, 2, 2, 2, 2,\n",
       "       2, 2, 2, 2, 2, 2, 2, 2, 2, 2, 2, 2, 2, 2, 2, 2, 2, 2, 2, 2, 2, 2,\n",
       "       2, 2, 2, 2, 2, 2, 2, 2, 2, 2, 2, 2, 2, 2, 2, 2, 2, 2])"
      ]
     },
     "execution_count": 51,
     "metadata": {},
     "output_type": "execute_result"
    }
   ],
   "source": [
    "iris['target']\n",
    "\n",
    "names = ['group_a', 'group_b', 'group_c']\n",
    "values = [1, 10, 100]\n",
    "\n",
    "plt.figure(figsize=(9, 5))\n",
    "\n",
    "plt.subplot(131)  # To creat 1 by 3 grid and plot in the 1st subplot\n",
    "plt.bar(names, values)\n",
    "plt.subplot(132)  # plot in the 2nd subplot\n",
    "plt.scatter(names, values)\n",
    "plt.subplot(133)  # plot in the 3nd subplot\n",
    "plt.plot(names, values)\n",
    "plt.suptitle('Categorical Plotting')\n",
    "plt.show()"
   ]
  }
 ],
 "metadata": {
  "kernelspec": {
   "display_name": "venv",
   "language": "python",
   "name": "python3"
  },
  "language_info": {
   "codemirror_mode": {
    "name": "ipython",
    "version": 3
   },
   "file_extension": ".py",
   "mimetype": "text/x-python",
   "name": "python",
   "nbconvert_exporter": "python",
   "pygments_lexer": "ipython3",
   "version": "3.10.16"
  }
 },
 "nbformat": 4,
 "nbformat_minor": 4
}
